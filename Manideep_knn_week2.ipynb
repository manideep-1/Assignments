{
  "nbformat": 4,
  "nbformat_minor": 0,
  "metadata": {
    "colab": {
      "name": "Untitled0.ipynb",
      "provenance": []
    },
    "kernelspec": {
      "name": "python3",
      "display_name": "Python 3"
    }
  },
  "cells": [
    {
      "cell_type": "code",
      "metadata": {
        "id": "vWcohEhjCUQZ",
        "colab_type": "code",
        "colab": {}
      },
      "source": [
        "#1)counter"
      ],
      "execution_count": 0,
      "outputs": []
    },
    {
      "cell_type": "code",
      "metadata": {
        "id": "08PDgMW04og-",
        "colab_type": "code",
        "colab": {
          "base_uri": "https://localhost:8080/",
          "height": 34
        },
        "outputId": "4be2ddee-7b57-48c8-e7a9-9b95ad96e9aa"
      },
      "source": [
        "from collections import Counter\n",
        "l=['red','blue','red','green','blue']\n",
        "x=Counter(l)\n",
        "print(x)\n"
      ],
      "execution_count": 1,
      "outputs": [
        {
          "output_type": "stream",
          "text": [
            "Counter({'red': 2, 'blue': 2, 'green': 1})\n"
          ],
          "name": "stdout"
        }
      ]
    },
    {
      "cell_type": "code",
      "metadata": {
        "id": "pEs-knjw5MQX",
        "colab_type": "code",
        "colab": {
          "base_uri": "https://localhost:8080/",
          "height": 68
        },
        "outputId": "b824f648-7231-4632-8c77-5feace34c8af"
      },
      "source": [
        "colours=['red','green','blue']\n",
        "for i in colours:\n",
        "  print(i,end=\" \")\n",
        "  print(x[i])"
      ],
      "execution_count": 2,
      "outputs": [
        {
          "output_type": "stream",
          "text": [
            "red 2\n",
            "green 1\n",
            "blue 2\n"
          ],
          "name": "stdout"
        }
      ]
    },
    {
      "cell_type": "code",
      "metadata": {
        "id": "FU0uwe1a5iDr",
        "colab_type": "code",
        "colab": {
          "base_uri": "https://localhost:8080/",
          "height": 357
        },
        "outputId": "11a5a9be-0201-4069-cd10-68cf5069916e"
      },
      "source": [
        "l1=[1,2,3,4,1,2,3,4,5,6,7,8,9]\n",
        "x1=Counter((l1))#counts each item in the list or any iterable\n",
        "x2=Counter(set(l1))\n",
        "print(\"for list\")\n",
        "for i in x1:\n",
        "  print(i,x1[i])\n",
        "print(\"for set \")\n",
        "for i in x2:\n",
        "  print(i,x2[i])\n"
      ],
      "execution_count": 10,
      "outputs": [
        {
          "output_type": "stream",
          "text": [
            "for list\n",
            "1 2\n",
            "2 2\n",
            "3 2\n",
            "4 2\n",
            "5 1\n",
            "6 1\n",
            "7 1\n",
            "8 1\n",
            "9 1\n",
            "for set \n",
            "1 1\n",
            "2 1\n",
            "3 1\n",
            "4 1\n",
            "5 1\n",
            "6 1\n",
            "7 1\n",
            "8 1\n",
            "9 1\n"
          ],
          "name": "stdout"
        }
      ]
    },
    {
      "cell_type": "code",
      "metadata": {
        "id": "jwWnv56nCkRb",
        "colab_type": "code",
        "colab": {
          "base_uri": "https://localhost:8080/",
          "height": 51
        },
        "outputId": "73ecc969-f2e0-491c-efa1-d7a320c53000"
      },
      "source": [
        "coun = Counter(red=1, yellow=2, green=3) \n",
        "print(coun) \n",
        "  \n",
        "print(list(coun.elements())) #gives the actual list"
      ],
      "execution_count": 12,
      "outputs": [
        {
          "output_type": "stream",
          "text": [
            "Counter({'green': 3, 'yellow': 2, 'red': 1})\n",
            "['red', 'yellow', 'yellow', 'green', 'green', 'green']\n"
          ],
          "name": "stdout"
        }
      ]
    },
    {
      "cell_type": "code",
      "metadata": {
        "id": "ADk6k5T0FDnR",
        "colab_type": "code",
        "colab": {
          "base_uri": "https://localhost:8080/",
          "height": 51
        },
        "outputId": "89b0ce8f-9993-4209-9cc0-1bea37fa6896"
      },
      "source": [
        "c= Counter(red=1, yellow=200, green=3)\n",
        "for i in c.most_common(2):\n",
        "  print(i,c[i]) #gives the highest frequent 2 items"
      ],
      "execution_count": 22,
      "outputs": [
        {
          "output_type": "stream",
          "text": [
            "('yellow', 200) 0\n",
            "('green', 3) 0\n"
          ],
          "name": "stdout"
        }
      ]
    },
    {
      "cell_type": "code",
      "metadata": {
        "id": "R0WA50F15v3M",
        "colab_type": "code",
        "colab": {}
      },
      "source": [
        "#2)Try implementing the algorithm for iris dataset\n",
        "import numpy as np\n",
        "import pandas as pd\n",
        "from collections import Counter\n"
      ],
      "execution_count": 0,
      "outputs": []
    },
    {
      "cell_type": "code",
      "metadata": {
        "id": "PQ7mUG8SDG1x",
        "colab_type": "code",
        "colab": {
          "base_uri": "https://localhost:8080/",
          "height": 34
        },
        "outputId": "f58e8129-c21f-4254-c1b7-fa45e8b7f07e"
      },
      "source": [
        "iris=pd.read_csv('/iris.data')#upload the iris file to var/ folder in google collab\n",
        "print(iris.shape)"
      ],
      "execution_count": 23,
      "outputs": [
        {
          "output_type": "stream",
          "text": [
            "(149, 5)\n"
          ],
          "name": "stdout"
        }
      ]
    },
    {
      "cell_type": "code",
      "metadata": {
        "id": "hY_DdG9XDHVD",
        "colab_type": "code",
        "colab": {
          "base_uri": "https://localhost:8080/",
          "height": 442
        },
        "outputId": "1b681fd6-88bb-4efd-c815-2e7193515843"
      },
      "source": [
        "print(iris)\n",
        "iris.head()"
      ],
      "execution_count": 26,
      "outputs": [
        {
          "output_type": "stream",
          "text": [
            "     5.1  3.5  1.4  0.2     Iris-setosa\n",
            "0    4.9  3.0  1.4  0.2     Iris-setosa\n",
            "1    4.7  3.2  1.3  0.2     Iris-setosa\n",
            "2    4.6  3.1  1.5  0.2     Iris-setosa\n",
            "3    5.0  3.6  1.4  0.2     Iris-setosa\n",
            "4    5.4  3.9  1.7  0.4     Iris-setosa\n",
            "..   ...  ...  ...  ...             ...\n",
            "144  6.7  3.0  5.2  2.3  Iris-virginica\n",
            "145  6.3  2.5  5.0  1.9  Iris-virginica\n",
            "146  6.5  3.0  5.2  2.0  Iris-virginica\n",
            "147  6.2  3.4  5.4  2.3  Iris-virginica\n",
            "148  5.9  3.0  5.1  1.8  Iris-virginica\n",
            "\n",
            "[149 rows x 5 columns]\n"
          ],
          "name": "stdout"
        },
        {
          "output_type": "execute_result",
          "data": {
            "text/html": [
              "<div>\n",
              "<style scoped>\n",
              "    .dataframe tbody tr th:only-of-type {\n",
              "        vertical-align: middle;\n",
              "    }\n",
              "\n",
              "    .dataframe tbody tr th {\n",
              "        vertical-align: top;\n",
              "    }\n",
              "\n",
              "    .dataframe thead th {\n",
              "        text-align: right;\n",
              "    }\n",
              "</style>\n",
              "<table border=\"1\" class=\"dataframe\">\n",
              "  <thead>\n",
              "    <tr style=\"text-align: right;\">\n",
              "      <th></th>\n",
              "      <th>5.1</th>\n",
              "      <th>3.5</th>\n",
              "      <th>1.4</th>\n",
              "      <th>0.2</th>\n",
              "      <th>Iris-setosa</th>\n",
              "    </tr>\n",
              "  </thead>\n",
              "  <tbody>\n",
              "    <tr>\n",
              "      <th>0</th>\n",
              "      <td>4.9</td>\n",
              "      <td>3.0</td>\n",
              "      <td>1.4</td>\n",
              "      <td>0.2</td>\n",
              "      <td>Iris-setosa</td>\n",
              "    </tr>\n",
              "    <tr>\n",
              "      <th>1</th>\n",
              "      <td>4.7</td>\n",
              "      <td>3.2</td>\n",
              "      <td>1.3</td>\n",
              "      <td>0.2</td>\n",
              "      <td>Iris-setosa</td>\n",
              "    </tr>\n",
              "    <tr>\n",
              "      <th>2</th>\n",
              "      <td>4.6</td>\n",
              "      <td>3.1</td>\n",
              "      <td>1.5</td>\n",
              "      <td>0.2</td>\n",
              "      <td>Iris-setosa</td>\n",
              "    </tr>\n",
              "    <tr>\n",
              "      <th>3</th>\n",
              "      <td>5.0</td>\n",
              "      <td>3.6</td>\n",
              "      <td>1.4</td>\n",
              "      <td>0.2</td>\n",
              "      <td>Iris-setosa</td>\n",
              "    </tr>\n",
              "    <tr>\n",
              "      <th>4</th>\n",
              "      <td>5.4</td>\n",
              "      <td>3.9</td>\n",
              "      <td>1.7</td>\n",
              "      <td>0.4</td>\n",
              "      <td>Iris-setosa</td>\n",
              "    </tr>\n",
              "  </tbody>\n",
              "</table>\n",
              "</div>"
            ],
            "text/plain": [
              "   5.1  3.5  1.4  0.2  Iris-setosa\n",
              "0  4.9  3.0  1.4  0.2  Iris-setosa\n",
              "1  4.7  3.2  1.3  0.2  Iris-setosa\n",
              "2  4.6  3.1  1.5  0.2  Iris-setosa\n",
              "3  5.0  3.6  1.4  0.2  Iris-setosa\n",
              "4  5.4  3.9  1.7  0.4  Iris-setosa"
            ]
          },
          "metadata": {
            "tags": []
          },
          "execution_count": 26
        }
      ]
    },
    {
      "cell_type": "code",
      "metadata": {
        "id": "pViy-7jeF4XK",
        "colab_type": "code",
        "colab": {
          "base_uri": "https://localhost:8080/",
          "height": 459
        },
        "outputId": "fd309b8b-ad54-4b06-9d0f-8962fba1f6db"
      },
      "source": [
        "x=iris.iloc[:,0:5]\n",
        "print(x)\n",
        "y=iris.iloc[:,4]\n",
        "print(y)"
      ],
      "execution_count": 164,
      "outputs": [
        {
          "output_type": "stream",
          "text": [
            "     5.1  3.5  1.4  0.2     Iris-setosa\n",
            "0    4.9  3.0  1.4  0.2     Iris-setosa\n",
            "1    4.7  3.2  1.3  0.2     Iris-setosa\n",
            "2    4.6  3.1  1.5  0.2     Iris-setosa\n",
            "3    5.0  3.6  1.4  0.2     Iris-setosa\n",
            "4    5.4  3.9  1.7  0.4     Iris-setosa\n",
            "..   ...  ...  ...  ...             ...\n",
            "144  6.7  3.0  5.2  2.3  Iris-virginica\n",
            "145  6.3  2.5  5.0  1.9  Iris-virginica\n",
            "146  6.5  3.0  5.2  2.0  Iris-virginica\n",
            "147  6.2  3.4  5.4  2.3  Iris-virginica\n",
            "148  5.9  3.0  5.1  1.8  Iris-virginica\n",
            "\n",
            "[149 rows x 5 columns]\n",
            "0         Iris-setosa\n",
            "1         Iris-setosa\n",
            "2         Iris-setosa\n",
            "3         Iris-setosa\n",
            "4         Iris-setosa\n",
            "            ...      \n",
            "144    Iris-virginica\n",
            "145    Iris-virginica\n",
            "146    Iris-virginica\n",
            "147    Iris-virginica\n",
            "148    Iris-virginica\n",
            "Name: Iris-setosa, Length: 149, dtype: object\n"
          ],
          "name": "stdout"
        }
      ]
    },
    {
      "cell_type": "code",
      "metadata": {
        "id": "ji2OljeuVWrJ",
        "colab_type": "code",
        "colab": {}
      },
      "source": [
        "from sklearn.model_selection import train_test_split\n",
        "xtr,xte,ytr,yte= train_test_split(x, y, test_size = 0.3333333, random_state = 0)#samples are selected randomly"
      ],
      "execution_count": 0,
      "outputs": []
    },
    {
      "cell_type": "code",
      "metadata": {
        "id": "mjv8vJg7V-8i",
        "colab_type": "code",
        "colab": {
          "base_uri": "https://localhost:8080/",
          "height": 1000
        },
        "outputId": "e5b72cf2-5506-4eb5-d25a-0e672085f9eb"
      },
      "source": [
        "print(xtr,len(xtr))\n",
        "print(xte,len(xte))\n",
        "print(ytr)\n",
        "print(yte)"
      ],
      "execution_count": 166,
      "outputs": [
        {
          "output_type": "stream",
          "text": [
            "     5.1  3.5  1.4  0.2      Iris-setosa\n",
            "120  5.6  2.8  4.9  2.0   Iris-virginica\n",
            "89   5.5  2.6  4.4  1.2  Iris-versicolor\n",
            "145  6.3  2.5  5.0  1.9   Iris-virginica\n",
            "100  5.8  2.7  5.1  1.9   Iris-virginica\n",
            "50   6.4  3.2  4.5  1.5  Iris-versicolor\n",
            "..   ...  ...  ...  ...              ...\n",
            "9    5.4  3.7  1.5  0.2      Iris-setosa\n",
            "103  6.5  3.0  5.8  2.2   Iris-virginica\n",
            "67   6.2  2.2  4.5  1.5  Iris-versicolor\n",
            "117  7.7  2.6  6.9  2.3   Iris-virginica\n",
            "47   5.3  3.7  1.5  0.2      Iris-setosa\n",
            "\n",
            "[99 rows x 5 columns] 99\n",
            "     5.1  3.5  1.4  0.2      Iris-setosa\n",
            "133  6.1  2.6  5.6  1.4   Iris-virginica\n",
            "109  6.5  3.2  5.1  2.0   Iris-virginica\n",
            "59   5.0  2.0  3.5  1.0  Iris-versicolor\n",
            "80   5.5  2.4  3.7  1.0  Iris-versicolor\n",
            "7    4.4  2.9  1.4  0.2      Iris-setosa\n",
            "104  7.6  3.0  6.6  2.1   Iris-virginica\n",
            "140  6.9  3.1  5.1  2.3   Iris-virginica\n",
            "95   5.7  2.9  4.2  1.3  Iris-versicolor\n",
            "118  6.0  2.2  5.0  1.5   Iris-virginica\n",
            "84   6.0  3.4  4.5  1.6  Iris-versicolor\n",
            "33   4.9  3.1  1.5  0.1      Iris-setosa\n",
            "44   4.8  3.0  1.4  0.3      Iris-setosa\n",
            "54   5.7  2.8  4.5  1.3  Iris-versicolor\n",
            "24   5.0  3.0  1.6  0.2      Iris-setosa\n",
            "37   4.4  3.0  1.3  0.2      Iris-setosa\n",
            "132  6.3  2.8  5.1  1.5   Iris-virginica\n",
            "111  6.8  3.0  5.5  2.1   Iris-virginica\n",
            "73   6.4  2.9  4.3  1.3  Iris-versicolor\n",
            "16   5.1  3.5  1.4  0.3      Iris-setosa\n",
            "45   5.1  3.8  1.6  0.2      Iris-setosa\n",
            "40   4.5  2.3  1.3  0.3      Iris-setosa\n",
            "8    4.9  3.1  1.5  0.1      Iris-setosa\n",
            "85   6.7  3.1  4.7  1.5  Iris-versicolor\n",
            "22   5.1  3.3  1.7  0.5      Iris-setosa\n",
            "62   6.1  2.9  4.7  1.4  Iris-versicolor\n",
            "94   5.7  3.0  4.2  1.2  Iris-versicolor\n",
            "90   6.1  3.0  4.6  1.4  Iris-versicolor\n",
            "26   5.2  3.5  1.5  0.2      Iris-setosa\n",
            "43   5.1  3.8  1.9  0.4      Iris-setosa\n",
            "134  7.7  3.0  6.1  2.3   Iris-virginica\n",
            "27   5.2  3.4  1.4  0.2      Iris-setosa\n",
            "97   5.1  2.5  3.0  1.1  Iris-versicolor\n",
            "96   6.2  2.9  4.3  1.3  Iris-versicolor\n",
            "69   5.9  3.2  4.8  1.8  Iris-versicolor\n",
            "18   5.1  3.8  1.5  0.3      Iris-setosa\n",
            "105  4.9  2.5  4.5  1.7   Iris-virginica\n",
            "136  6.4  3.1  5.5  1.8   Iris-virginica\n",
            "61   6.0  2.2  4.0  1.0  Iris-versicolor\n",
            "51   6.9  3.1  4.9  1.5  Iris-versicolor\n",
            "2    4.6  3.1  1.5  0.2      Iris-setosa\n",
            "146  6.5  3.0  5.2  2.0   Iris-virginica\n",
            "10   4.8  3.4  1.6  0.2      Iris-setosa\n",
            "56   4.9  2.4  3.3  1.0  Iris-versicolor\n",
            "113  5.8  2.8  5.1  2.4   Iris-virginica\n",
            "143  6.7  3.3  5.7  2.5   Iris-virginica\n",
            "116  7.7  3.8  6.7  2.2   Iris-virginica\n",
            "66   5.8  2.7  4.1  1.0  Iris-versicolor\n",
            "78   5.7  2.6  3.5  1.0  Iris-versicolor\n",
            "71   6.3  2.5  4.9  1.5  Iris-versicolor\n",
            "131  6.4  2.8  5.6  2.2   Iris-virginica 50\n",
            "120     Iris-virginica\n",
            "89     Iris-versicolor\n",
            "145     Iris-virginica\n",
            "100     Iris-virginica\n",
            "50     Iris-versicolor\n",
            "            ...       \n",
            "9          Iris-setosa\n",
            "103     Iris-virginica\n",
            "67     Iris-versicolor\n",
            "117     Iris-virginica\n",
            "47         Iris-setosa\n",
            "Name: Iris-setosa, Length: 99, dtype: object\n",
            "133     Iris-virginica\n",
            "109     Iris-virginica\n",
            "59     Iris-versicolor\n",
            "80     Iris-versicolor\n",
            "7          Iris-setosa\n",
            "104     Iris-virginica\n",
            "140     Iris-virginica\n",
            "95     Iris-versicolor\n",
            "118     Iris-virginica\n",
            "84     Iris-versicolor\n",
            "33         Iris-setosa\n",
            "44         Iris-setosa\n",
            "54     Iris-versicolor\n",
            "24         Iris-setosa\n",
            "37         Iris-setosa\n",
            "132     Iris-virginica\n",
            "111     Iris-virginica\n",
            "73     Iris-versicolor\n",
            "16         Iris-setosa\n",
            "45         Iris-setosa\n",
            "40         Iris-setosa\n",
            "8          Iris-setosa\n",
            "85     Iris-versicolor\n",
            "22         Iris-setosa\n",
            "62     Iris-versicolor\n",
            "94     Iris-versicolor\n",
            "90     Iris-versicolor\n",
            "26         Iris-setosa\n",
            "43         Iris-setosa\n",
            "134     Iris-virginica\n",
            "27         Iris-setosa\n",
            "97     Iris-versicolor\n",
            "96     Iris-versicolor\n",
            "69     Iris-versicolor\n",
            "18         Iris-setosa\n",
            "105     Iris-virginica\n",
            "136     Iris-virginica\n",
            "61     Iris-versicolor\n",
            "51     Iris-versicolor\n",
            "2          Iris-setosa\n",
            "146     Iris-virginica\n",
            "10         Iris-setosa\n",
            "56     Iris-versicolor\n",
            "113     Iris-virginica\n",
            "143     Iris-virginica\n",
            "116     Iris-virginica\n",
            "66     Iris-versicolor\n",
            "78     Iris-versicolor\n",
            "71     Iris-versicolor\n",
            "131     Iris-virginica\n",
            "Name: Iris-setosa, dtype: object\n"
          ],
          "name": "stdout"
        }
      ]
    },
    {
      "cell_type": "code",
      "metadata": {
        "id": "wEjmQm8zWEA7",
        "colab_type": "code",
        "colab": {}
      },
      "source": [
        "from math import sqrt\n",
        "def euclidean_distance(row1, row2):\n",
        "    distance = 0.0\n",
        "    for i in range(len(row1)-1):\n",
        "        distance += ((row1[i]) - (row2[i]))**2\n",
        "    return sqrt(distance)"
      ],
      "execution_count": 0,
      "outputs": []
    },
    {
      "cell_type": "code",
      "metadata": {
        "id": "JGQi5tI3WhqL",
        "colab_type": "code",
        "colab": {}
      },
      "source": [
        "correct=0\n",
        "total=0 \n",
        "for j in range(len(xte)):\n",
        "    row1=xte.iloc[j].values.tolist()\n",
        "    # print(row1)\n",
        "    distances=[] \n",
        "    for i in range(len(xtr)):\n",
        "         row2=xtr.iloc[i].values.tolist() \n",
        "         distance=euclidean_distance(row1,row2)\n",
        "         distances.append((distance,ytr.iloc[i]))\n",
        "    votes=[i[1] for i in sorted(distances) [:5]] #performing voting\n",
        "    res=Counter(votes).most_common(1)[0][0]\n",
        "    if(res==yte.iloc[j]): \n",
        "        correct+=1\n",
        "    total+=1\n",
        "\n",
        "#     # #print(distances[0])\n",
        "#     distances.sort(key = lambda x: x[0])\n",
        "#     # # print(distances[1])\n",
        "    \n",
        "#     votes=([i[0] for i in (distances)[:5]] )#performing voting\n",
        "# # print(votes)\n",
        "\n",
        "#     res=Counter((votes)).most_common(1)[0][0]\n",
        "#     # print(res)\n",
        "#     # print(yte.iloc[j].value.tolist())\n",
        "#     # if(res==yte.iloc[j]): \n",
        "#     #     correct+=1\n",
        "#     # total+=1"
      ],
      "execution_count": 0,
      "outputs": []
    },
    {
      "cell_type": "code",
      "metadata": {
        "id": "ydPXeDiAWj3G",
        "colab_type": "code",
        "colab": {}
      },
      "source": [
        "accuracy=correct/total"
      ],
      "execution_count": 0,
      "outputs": []
    },
    {
      "cell_type": "code",
      "metadata": {
        "id": "me7UWt8Z0VMh",
        "colab_type": "code",
        "colab": {
          "base_uri": "https://localhost:8080/",
          "height": 34
        },
        "outputId": "c0b0c89c-d045-4f99-96cf-f86300f43a91"
      },
      "source": [
        "print(accuracy)"
      ],
      "execution_count": 175,
      "outputs": [
        {
          "output_type": "stream",
          "text": [
            "0.94\n"
          ],
          "name": "stdout"
        }
      ]
    },
    {
      "cell_type": "code",
      "metadata": {
        "id": "dxf-bG990wMh",
        "colab_type": "code",
        "colab": {
          "base_uri": "https://localhost:8080/",
          "height": 695
        },
        "outputId": "2962f193-618d-4ea5-c3c2-165e63685605"
      },
      "source": [
        "#3) Learning about scikit-learn's implementation of kNN\n",
        "import numpy as np\n",
        "import matplotlib.pyplot as plt\n",
        "import pandas as pd\n",
        "\n",
        "# Importing the dataset\n",
        "dataset = pd.read_csv('Social_Network_Ads.csv')\n",
        "X = dataset.iloc[:, [2, 3]].values\n",
        "y = dataset.iloc[:, 4].values\n",
        "\n",
        "# Splitting the dataset into the Training set and Test set\n",
        "from sklearn.model_selection import train_test_split\n",
        "X_train, X_test, y_train, y_test = train_test_split(X, y, test_size = 0.25, random_state = 0)\n",
        "\n",
        "# Feature Scaling\n",
        "from sklearn.preprocessing import StandardScaler\n",
        "sc = StandardScaler()\n",
        "X_train = sc.fit_transform(X_train)\n",
        "X_test = sc.transform(X_test)\n",
        "\n",
        "# Fitting classifier to the Training set\n",
        "# Create your classifier here\n",
        "from sklearn.neighbors import KNeighborsClassifier\n",
        "classifier=KNeighborsClassifier(n_neighbors=5,metric='minkowski',p=2)\n",
        "classifier.fit(X_train,y_train)\n",
        "# Predicting the Test set results\n",
        "y_pred = classifier.predict(X_test)\n",
        "\n",
        "# Making the Confusion Matrix\n",
        "from sklearn.metrics import confusion_matrix\n",
        "cm = confusion_matrix(y_test, y_pred)\n",
        "print(cm)\n",
        "# Visualising the Training set results\n",
        "from matplotlib.colors import ListedColormap\n",
        "X_set, y_set = X_train, y_train\n",
        "X1, X2 = np.meshgrid(np.arange(start = X_set[:, 0].min() - 1, stop = X_set[:, 0].max() + 1, step = 0.01),\n",
        "                     np.arange(start = X_set[:, 1].min() - 1, stop = X_set[:, 1].max() + 1, step = 0.01))\n",
        "plt.contourf(X1, X2, classifier.predict(np.array([X1.ravel(), X2.ravel()]).T).reshape(X1.shape),\n",
        "             alpha = 0.75, cmap = ListedColormap(('red', 'green')))\n",
        "plt.xlim(X1.min(), X1.max())\n",
        "plt.ylim(X2.min(), X2.max())\n",
        "for i, j in enumerate(np.unique(y_set)):\n",
        "    plt.scatter(X_set[y_set == j, 0], X_set[y_set == j, 1],\n",
        "                c = ListedColormap(('red', 'green'))(i), label = j)\n",
        "plt.title('Classifier (Training set)')\n",
        "plt.xlabel('Age')\n",
        "plt.ylabel('Estimated Salary')\n",
        "plt.legend()\n",
        "plt.show()\n",
        "\n",
        "# Visualising the Test set results\n",
        "from matplotlib.colors import ListedColormap\n",
        "X_set, y_set = X_test, y_test\n",
        "X1, X2 = np.meshgrid(np.arange(start = X_set[:, 0].min() - 1, stop = X_set[:, 0].max() + 1, step = 0.01),\n",
        "                     np.arange(start = X_set[:, 1].min() - 1, stop = X_set[:, 1].max() + 1, step = 0.01))\n",
        "plt.contourf(X1, X2, classifier.predict(np.array([X1.ravel(), X2.ravel()]).T).reshape(X1.shape),\n",
        "             alpha = 0.75, cmap = ListedColormap(('red', 'green')))\n",
        "plt.xlim(X1.min(), X1.max())\n",
        "plt.ylim(X2.min(), X2.max())\n",
        "for i, j in enumerate(np.unique(y_set)):\n",
        "    plt.scatter(X_set[y_set == j, 0], X_set[y_set == j, 1],\n",
        "                c = ListedColormap(('red', 'green'))(i), label = j)\n",
        "plt.title('Classifier (Test set)')\n",
        "plt.xlabel('Age')\n",
        "plt.ylabel('Estimated Salary')\n",
        "plt.legend()\n",
        "plt.show()"
      ],
      "execution_count": 177,
      "outputs": [
        {
          "output_type": "stream",
          "text": [
            "[[64  4]\n",
            " [ 3 29]]\n"
          ],
          "name": "stdout"
        },
        {
          "output_type": "stream",
          "text": [
            "'c' argument looks like a single numeric RGB or RGBA sequence, which should be avoided as value-mapping will have precedence in case its length matches with 'x' & 'y'.  Please use a 2-D array with a single row if you really want to specify the same RGB or RGBA value for all points.\n",
            "'c' argument looks like a single numeric RGB or RGBA sequence, which should be avoided as value-mapping will have precedence in case its length matches with 'x' & 'y'.  Please use a 2-D array with a single row if you really want to specify the same RGB or RGBA value for all points.\n"
          ],
          "name": "stderr"
        },
        {
          "output_type": "display_data",
          "data": {
            "image/png": "[encoded data removed]",
            "text/plain": [
              "<Figure size 432x288 with 1 Axes>"
            ]
          },
          "metadata": {
            "tags": []
          }
        },
        {
          "output_type": "stream",
          "text": [
            "'c' argument looks like a single numeric RGB or RGBA sequence, which should be avoided as value-mapping will have precedence in case its length matches with 'x' & 'y'.  Please use a 2-D array with a single row if you really want to specify the same RGB or RGBA value for all points.\n",
            "'c' argument looks like a single numeric RGB or RGBA sequence, which should be avoided as value-mapping will have precedence in case its length matches with 'x' & 'y'.  Please use a 2-D array with a single row if you really want to specify the same RGB or RGBA value for all points.\n"
          ],
          "name": "stderr"
        },
        {
          "output_type": "display_data",
          "data": {
            "image/png": "[encoded data removed]",
            "text/plain": [
              "<Figure size 432x288 with 1 Axes>"
            ]
          },
          "metadata": {
            "tags": []
          }
        }
      ]
    },
    {
      "cell_type": "code",
      "metadata": {
        "id": "-ZqEz2H13DtW",
        "colab_type": "code",
        "colab": {}
      },
      "source": [
        ""
      ],
      "execution_count": 0,
      "outputs": []
    }
  ]
}